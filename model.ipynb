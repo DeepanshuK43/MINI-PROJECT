{
 "cells": [
  {
   "cell_type": "code",
   "execution_count": 1,
   "metadata": {},
   "outputs": [],
   "source": [
    "# Crop Prediction using Machine Learning and Firebase\n",
    "# This notebook implements a machine learning model for crop prediction using a decision tree classifier. It preprocesses data, trains the model, makes predictions, and sends the results to Firebase.\n",
    "\n",
    "## Steps:\n",
    "# 1. Import Libraries\n",
    "# 2. Define Functions for Preprocessing, Training, and Prediction\n",
    "# 3. Integrate with Firebase\n",
    "# 4. Run the Main Script\n"
   ]
  },
  {
   "cell_type": "code",
   "execution_count": 2,
   "metadata": {},
   "outputs": [],
   "source": [
    "# Importing required libraries\n",
    "import pandas as pd\n",
    "from sklearn.model_selection import train_test_split\n",
    "from sklearn.preprocessing import LabelEncoder, StandardScaler\n",
    "from sklearn.tree import DecisionTreeClassifier\n",
    "from sklearn.metrics import classification_report, accuracy_score\n",
    "from firebase import firebase\n"
   ]
  },
  {
   "cell_type": "code",
   "execution_count": 3,
   "metadata": {},
   "outputs": [],
   "source": [
    "## Data Preprocessing\n",
    "# This function loads the dataset, encodes labels, splits the data into training and testing sets, and scales the features for the model.\n"
   ]
  },
  {
   "cell_type": "code",
   "execution_count": 4,
   "metadata": {},
   "outputs": [],
   "source": [
    "def preprocess_data(filepath):\n",
    "    data = pd.read_csv(filepath)\n",
    "    print(\"First row of data:\")\n",
    "    print(data.head(1))\n",
    "\n",
    "    # Encode target variable\n",
    "    le = LabelEncoder()\n",
    "    data['label_encoded'] = le.fit_transform(data['label'])\n",
    "    y = data['label_encoded']\n",
    "    X = data.drop(columns=['label', 'label_encoded'])\n",
    "\n",
    "    # Split the data\n",
    "    X_train, X_test, y_train, y_test = train_test_split(X, y, test_size=0.3, random_state=42)\n",
    "\n",
    "    # Scale features\n",
    "    scaler = StandardScaler()\n",
    "    X_train = scaler.fit_transform(X_train)\n",
    "    X_test = scaler.transform(X_test)\n",
    "\n",
    "    return X_train, X_test, y_train, y_test, le, scaler\n"
   ]
  },
  {
   "cell_type": "code",
   "execution_count": 5,
   "metadata": {},
   "outputs": [],
   "source": [
    "## Model Training and Evaluation\n",
    "# This function trains a decision tree classifier, evaluates it using test data, and prints the classification report and accuracy score.\n"
   ]
  },
  {
   "cell_type": "code",
   "execution_count": 6,
   "metadata": {},
   "outputs": [],
   "source": [
    "def train_and_evaluate_model(X_train, X_test, y_train, y_test, le):\n",
    "    clf = DecisionTreeClassifier()\n",
    "    clf.fit(X_train, y_train) #for training model \n",
    "\n",
    "    # Predict and evaluate\n",
    "    y_pred = clf.predict(X_test)  #prediction\n",
    "    print(\"Classification Report:\")\n",
    "    print(classification_report(y_test, y_pred, target_names=le.classes_))\n",
    "    accuracy = accuracy_score(y_test, y_pred)\n",
    "    print(f\"Model Accuracy: {accuracy * 100:.2f}%\")\n",
    "\n",
    "    return clf\n"
   ]
  },
  {
   "cell_type": "code",
   "execution_count": 7,
   "metadata": {},
   "outputs": [],
   "source": [
    "## User Input Validation\n",
    "# This function collects valid user inputs for prediction. It ensures that inputs are within specified ranges.\n"
   ]
  },
  {
   "cell_type": "code",
   "execution_count": 8,
   "metadata": {},
   "outputs": [],
   "source": [
    "def get_valid_input(prompt, min_val, max_val):\n",
    "    while True:\n",
    "        try:\n",
    "            value = float(input(prompt))\n",
    "            if min_val <= value <= max_val:\n",
    "                return value\n",
    "            else:\n",
    "                print(f\"Please enter a value between {min_val} and {max_val}.\")\n",
    "        except ValueError:\n",
    "            print(\"Invalid input. Please enter a numeric value.\")\n"
   ]
  },
  {
   "cell_type": "code",
   "execution_count": 9,
   "metadata": {},
   "outputs": [],
   "source": [
    "## Prediction and Firebase Integration\n",
    "# This function:\n",
    "# 1. Collects user inputs for prediction.\n",
    "# 2. Uses the trained model to make predictions.\n",
    "# 3. Sends the prediction result to Firebase.\n"
   ]
  },
  {
   "cell_type": "code",
   "execution_count": 10,
   "metadata": {},
   "outputs": [],
   "source": [
    "def predict_and_send_to_firebase(clf, scaler, le, firebase_url):\n",
    "    # Define ranges\n",
    "    input_ranges = {\n",
    "        \"Air Humidity (%)\": (10, 90),\n",
    "        \"Air Temperature (°C)\": (10, 45),\n",
    "        \"Soil pH\": (4, 9),\n",
    "        \"Rainfall (mm)\": (0, 300),\n",
    "    }\n",
    "\n",
    "    # Gather user inputs\n",
    "    inputs = [get_valid_input(f\"Enter {key}: \", *range_) for key, range_ in input_ranges.items()]\n",
    "    predict_input_scaled = scaler.transform([inputs])\n",
    "\n",
    "    # Make prediction\n",
    "    predicted_label_encoded = clf.predict(predict_input_scaled)\n",
    "    predicted_crop = le.inverse_transform(predicted_label_encoded)[0]\n",
    "    print(f\"The predicted crop is: {predicted_crop}\")\n",
    "\n",
    "    # Connect to Firebase and send prediction\n",
    "    try:\n",
    "        firebase_connection = firebase.FirebaseApplication(firebase_url)\n",
    "        firebase_connection.put('/croppredicted', 'crop', predicted_crop)\n",
    "        print(\"Prediction successfully sent to Firebase!\")\n",
    "    except Exception as e:\n",
    "        print(f\"Error sending data to Firebase: {e}\")\n"
   ]
  },
  {
   "cell_type": "code",
   "execution_count": 11,
   "metadata": {},
   "outputs": [],
   "source": [
    "## Main Script\n",
    "# This section combines all the defined functions to:\n",
    "# 1. Preprocess data.\n",
    "# 2. Train and evaluate the model.\n",
    "# 3. Interact with Firebase for real-time data and predictions.\n"
   ]
  },
  {
   "cell_type": "code",
   "execution_count": 12,
   "metadata": {},
   "outputs": [],
   "source": [
    "def main():\n",
    "    # Filepath and Firebase URL\n",
    "    filepath = 'cpdata1.csv'  # Replace with your actual file path\n",
    "    firebase_url = 'https://cropit-eb156.firebaseio.com/'\n",
    "\n",
    "    # Preprocess data\n",
    "    X_train, X_test, y_train, y_test, le, scaler = preprocess_data(filepath)\n",
    "\n",
    "    # Train and evaluate the model\n",
    "    clf = train_and_evaluate_model(X_train, X_test, y_train, y_test, le)\n",
    "\n",
    "    # Retrieve Firebase data\n",
    "    firebase_connection = firebase.FirebaseApplication(firebase_url)\n",
    "    tp = firebase_connection.get('/Realtime', None)\n",
    "\n",
    "    if tp is not None:\n",
    "        predict_and_send_to_firebase(clf, scaler, le, firebase_url)\n",
    "    else:\n",
    "        print(\"Failed to retrieve data from Firebase.\")\n"
   ]
  },
  {
   "cell_type": "code",
   "execution_count": null,
   "metadata": {},
   "outputs": [
    {
     "name": "stdout",
     "output_type": "stream",
     "text": [
      "First row of data:\n",
      "   temperature   humidity        ph    rainfall label\n",
      "0    20.879744  82.002744  6.502985  202.935536  rice\n",
      "Classification Report:\n",
      "              precision    recall  f1-score   support\n",
      "\n",
      "Adzuki Beans       1.00      1.00      1.00        29\n",
      "  Black gram       1.00      0.96      0.98        26\n",
      "    Chickpea       1.00      1.00      1.00        27\n",
      "     Coconut       1.00      1.00      1.00        30\n",
      "      Coffee       0.82      0.90      0.86        31\n",
      "      Cotton       0.80      0.83      0.82        24\n",
      "  Ground Nut       0.86      0.91      0.89        34\n",
      "        Jute       0.91      0.71      0.80        28\n",
      "Kidney Beans       1.00      1.00      1.00        22\n",
      "      Lentil       0.93      0.96      0.95        28\n",
      "  Moth Beans       0.91      0.88      0.89        24\n",
      "   Mung Bean       1.00      1.00      1.00        40\n",
      "        Peas       1.00      1.00      1.00        27\n",
      " Pigeon Peas       0.83      0.81      0.82        31\n",
      "      Rubber       0.97      0.94      0.95        32\n",
      "   Sugarcane       0.80      0.86      0.83        28\n",
      "         Tea       0.93      0.96      0.95        28\n",
      "     Tobacco       0.93      0.96      0.95        28\n",
      "       apple       0.96      0.78      0.86        32\n",
      "      banana       0.87      0.90      0.89        30\n",
      "      grapes       0.96      0.93      0.95        29\n",
      "       maize       0.80      0.80      0.80        30\n",
      "       mango       0.97      0.94      0.96        35\n",
      "      millet       1.00      1.00      1.00        38\n",
      "   muskmelon       1.00      1.00      1.00        30\n",
      "      orange       0.81      0.86      0.83        29\n",
      "      papaya       1.00      1.00      1.00        31\n",
      " pomegranate       0.86      0.92      0.89        39\n",
      "        rice       0.90      1.00      0.95        27\n",
      "  watermelon       0.93      1.00      0.96        27\n",
      "       wheat       0.62      0.56      0.59        36\n",
      "\n",
      "    accuracy                           0.91       930\n",
      "   macro avg       0.92      0.92      0.91       930\n",
      "weighted avg       0.91      0.91      0.91       930\n",
      "\n",
      "Model Accuracy: 91.40%\n"
     ]
    }
   ],
   "source": [
    "# Execute the main function\n",
    "if __name__ == \"__main__\":\n",
    "    main()\n"
   ]
  }
 ],
 "metadata": {
  "kernelspec": {
   "display_name": "Python 3",
   "language": "python",
   "name": "python3"
  },
  "language_info": {
   "codemirror_mode": {
    "name": "ipython",
    "version": 3
   },
   "file_extension": ".py",
   "mimetype": "text/x-python",
   "name": "python",
   "nbconvert_exporter": "python",
   "pygments_lexer": "ipython3",
   "version": "undefined.undefined.undefined"
  }
 },
 "nbformat": 4,
 "nbformat_minor": 2
}
